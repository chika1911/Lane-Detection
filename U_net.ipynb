{
  "nbformat": 4,
  "nbformat_minor": 0,
  "metadata": {
    "colab": {
      "provenance": [],
      "gpuType": "T4"
    },
    "kernelspec": {
      "name": "python3",
      "display_name": "Python 3"
    },
    "language_info": {
      "name": "python"
    },
    "accelerator": "GPU"
  },
  "cells": [
    {
      "cell_type": "code",
      "execution_count": null,
      "metadata": {
        "id": "VHZLO71oMe-G"
      },
      "outputs": [],
      "source": [
        "import cv2\n",
        "from google.colab.patches import cv2_imshow\n",
        "import numpy as np\n",
        "import matplotlib.pyplot as plt\n",
        "import tensorflow as tf\n",
        "from tqdm import tqdm\n",
        "from statistics import mean\n",
        "import math\n",
        "import datetime\n",
        "from tensorflow import keras\n",
        "from tensorflow.keras.layers import Conv2D, MaxPooling2D, UpSampling2D, Concatenate\n",
        "from tensorflow.keras.layers import Input, Add, Conv2DTranspose\n",
        "from tensorflow.keras.models import Sequential, Model\n",
        "from tensorflow.keras.applications import VGG16\n",
        "from tensorflow.keras.optimizers import SGD, Adam\n",
        "from tensorflow.keras.losses import SparseCategoricalCrossentropy, MeanSquaredError, BinaryCrossentropy\n",
        "from tensorflow.keras.utils import plot_model\n",
        "from tensorflow.keras import callbacks"
      ]
    },
    {
      "cell_type": "code",
      "source": [
        "from google.colab import drive\n",
        "drive.mount('/content/drive')"
      ],
      "metadata": {
        "colab": {
          "base_uri": "https://localhost:8080/"
        },
        "id": "uIpLGWE7xomc",
        "outputId": "56af9986-6c90-4178-8f57-0aa5c5d93659"
      },
      "execution_count": null,
      "outputs": [
        {
          "output_type": "stream",
          "name": "stdout",
          "text": [
            "Drive already mounted at /content/drive; to attempt to forcibly remount, call drive.mount(\"/content/drive\", force_remount=True).\n"
          ]
        }
      ]
    },
    {
      "cell_type": "code",
      "source": [
        "import numpy as np\n",
        "from matplotlib import pyplot as plt\n",
        "from skimage.transform import AffineTransform, warp\n",
        "from skimage import io, img_as_ubyte\n",
        "import random\n",
        "import os\n",
        "from scipy.ndimage import rotate\n",
        "import albumentations as A\n",
        "num = 2000"
      ],
      "metadata": {
        "id": "scoJZi6ojkq-"
      },
      "execution_count": null,
      "outputs": []
    },
    {
      "cell_type": "code",
      "source": [
        "images_path =\"/content/drive/MyDrive/agv/raw_images\"\n",
        "masks_path = \"/content/drive/MyDrive/agv/segmented_images\"\n",
        "img_augmented_path = \"/content/drive/MyDrive/agv/aug_raw_img\"\n",
        "msk_augmented_path = \"/content/drive/MyDrive/agv/aug_segmented_img \"\n",
        "images= []\n",
        "masks=[]"
      ],
      "metadata": {
        "id": "tndk_tpNkE23"
      },
      "execution_count": null,
      "outputs": []
    },
    {
      "cell_type": "code",
      "source": [
        "# images_path =\"/content/drive/MyDrive/agv/raw_images\"\n",
        "# masks_path = \"/content/drive/MyDrive/agv/segmented_images\"\n",
        "# img_augmented_path = \"/content/drive/MyDrive/agv/img\"\n",
        "# msk_augmented_path = \"/content/drive/MyDrive/agv/test\"\n",
        "# images= []\n",
        "# masks=[]"
      ],
      "metadata": {
        "id": "nxkg86L9zr_m"
      },
      "execution_count": null,
      "outputs": []
    },
    {
      "cell_type": "code",
      "source": [
        "for im in os.listdir(images_path):  # read image name from folder and append its path into \"images\" array\n",
        "    images.append(os.path.join(images_path,im))\n",
        "\n",
        "for msk in os.listdir(masks_path):  # read image name from folder and append its path into \"images\" array\n",
        "    masks.append(os.path.join(masks_path,msk))"
      ],
      "metadata": {
        "id": "dHQgZWq5lJKi"
      },
      "execution_count": null,
      "outputs": []
    },
    {
      "cell_type": "code",
      "source": [
        "aug = A.Compose([\n",
        "    A.VerticalFlip(p=0.5),\n",
        "    #A.RandomRotate90(p=1),\n",
        "    A.HorizontalFlip(p=0.5),\n",
        "    A.Transpose(p=1),\n",
        "    #A.RandomBrightness(limit=0.1,p=0.5),\n",
        "    #A.ElasticTransform(p=1, alpha=120, sigma=120 * 0.05, alpha_affine=120 * 0.03),\n",
        "    A.GridDistortion(p=1),\n",
        "    A.Resize(width=256,height=512)\n",
        "    ]\n",
        ")\n"
      ],
      "metadata": {
        "id": "3khwg4xslL52"
      },
      "execution_count": null,
      "outputs": []
    },
    {
      "cell_type": "code",
      "source": [
        "\n",
        "i=1   # variable to iterate till images_to_generate\n",
        "\n",
        "\n",
        "while i<=num:\n",
        "    number = random.randint(0, len(images)-1)  #PIck a number to select an image & mask\n",
        "    image = images[number]\n",
        "    mask = masks[number]\n",
        "    print(image, mask)\n",
        "    #image=random.choice(images) #Randomly select an image name\n",
        "    original_image = io.imread(image)\n",
        "    original_mask = io.imread(mask)\n",
        "\n",
        "    augmented = aug(image=original_image, mask=original_mask)\n",
        "    transformed_image = augmented['image']\n",
        "    transformed_mask = augmented['mask']\n",
        "\n",
        "\n",
        "    new_image_path= \"%s/augmented_image_%s.png\" %(img_augmented_path, i)\n",
        "    new_mask_path = \"%s/augmented_mask_%s.png\" %(msk_augmented_path, i)\n",
        "    io.imsave(new_image_path, transformed_image)\n",
        "    io.imsave(new_mask_path, transformed_mask)\n",
        "    i =i+1"
      ],
      "metadata": {
        "id": "-jjbQDIQlF9G"
      },
      "execution_count": null,
      "outputs": []
    },
    {
      "cell_type": "code",
      "source": [
        "keras.__version__"
      ],
      "metadata": {
        "colab": {
          "base_uri": "https://localhost:8080/",
          "height": 35
        },
        "id": "-HWBsT98Mj4i",
        "outputId": "cfd3a568-3ade-4934-82ba-278e070c1dce"
      },
      "execution_count": null,
      "outputs": [
        {
          "output_type": "execute_result",
          "data": {
            "text/plain": [
              "'2.12.0'"
            ],
            "application/vnd.google.colaboratory.intrinsic+json": {
              "type": "string"
            }
          },
          "metadata": {},
          "execution_count": 62
        }
      ]
    },
    {
      "cell_type": "code",
      "source": [
        "!pip install -U -q segmentation-models\n",
        "# !pip install -q tensorflow==2.2.1\n",
        "# !pip install -q keras==2.5"
      ],
      "metadata": {
        "id": "pFu8Wda5Nafq",
        "colab": {
          "base_uri": "https://localhost:8080/"
        },
        "outputId": "5f3f672e-591e-461b-ecb5-dccc9a93f706"
      },
      "execution_count": null,
      "outputs": [
        {
          "output_type": "stream",
          "name": "stdout",
          "text": [
            "\u001b[?25l     \u001b[90m━━━━━━━━━━━━━━━━━━━━━━━━━━━━━━━━━━━━━━━━\u001b[0m \u001b[32m0.0/50.7 kB\u001b[0m \u001b[31m?\u001b[0m eta \u001b[36m-:--:--\u001b[0m\r\u001b[2K     \u001b[90m━━━━━━━━━━━━━━━━━━━━━━━━━━━━━━━━━━━━━━━━\u001b[0m \u001b[32m50.7/50.7 kB\u001b[0m \u001b[31m6.9 MB/s\u001b[0m eta \u001b[36m0:00:00\u001b[0m\n",
            "\u001b[?25h"
          ]
        }
      ]
    },
    {
      "cell_type": "code",
      "source": [
        "import os\n",
        "os.environ[\"SM_FRAMEWORK\"] = \"tf.keras\"\n",
        "\n",
        "from tensorflow import keras\n",
        "import segmentation_models as sm"
      ],
      "metadata": {
        "colab": {
          "base_uri": "https://localhost:8080/"
        },
        "id": "EsThKmeoNnGE",
        "outputId": "9f80761b-e1b5-4048-f269-1c83195e5e54"
      },
      "execution_count": null,
      "outputs": [
        {
          "output_type": "stream",
          "name": "stdout",
          "text": [
            "Segmentation Models: using `tf.keras` framework.\n"
          ]
        }
      ]
    },
    {
      "cell_type": "code",
      "source": [
        "#!pip install segmentation-models\n",
        "import tensorflow as tf\n",
        "import glob\n",
        "import cv2\n",
        "import os\n",
        "import numpy as np\n",
        "from matplotlib import pyplot as plt"
      ],
      "metadata": {
        "id": "nhZT52YUM1B2"
      },
      "execution_count": null,
      "outputs": []
    },
    {
      "cell_type": "code",
      "source": [
        "BACKBONE = 'resnet34'\n",
        "preprocess_input = sm.get_preprocessing(BACKBONE)"
      ],
      "metadata": {
        "id": "iLvJgC4cN6lv"
      },
      "execution_count": null,
      "outputs": []
    },
    {
      "cell_type": "code",
      "source": [
        "test_i = cv2.imread('/content/drive/MyDrive/agv/img/augmented_image_1.png')\n",
        "test_i.shape"
      ],
      "metadata": {
        "colab": {
          "base_uri": "https://localhost:8080/"
        },
        "id": "B3DJBSm2yaVy",
        "outputId": "d84e7a12-aad1-4a3c-f47a-e2f64d91cf6c"
      },
      "execution_count": null,
      "outputs": [
        {
          "output_type": "execute_result",
          "data": {
            "text/plain": [
              "(512, 256, 3)"
            ]
          },
          "metadata": {},
          "execution_count": 9
        }
      ]
    },
    {
      "cell_type": "code",
      "source": [
        "SIZE_X = 512 #Resize images (height  = X, width = Y)\n",
        "SIZE_Y = 256"
      ],
      "metadata": {
        "id": "MXN_GL4nN86J"
      },
      "execution_count": null,
      "outputs": []
    },
    {
      "cell_type": "code",
      "source": [
        "#Capture training image info as a list\n",
        "train_images = []\n",
        "\n",
        "for directory_path in glob.glob(\"/content/drive/MyDrive/agv/aug_raw_img\"):\n",
        "    for img_path in glob.glob(os.path.join(directory_path, \"*.png\")):\n",
        "        #print(img_path)\n",
        "        img = cv2.imread(img_path, cv2.IMREAD_COLOR)\n",
        "        #img = cv2.resize(img, (SIZE_Y, SIZE_X))\n",
        "        #img = cv2.cvtColor(img, cv2.COLOR_RGB2BGR)\n",
        "        train_images.append(img)\n",
        "        #train_labels.append(label)\n",
        "#Convert list to array for machine learning processing\n",
        "train_images = np.array(train_images)\n",
        "\n",
        "#Capture mask/label info as a list\n",
        "train_masks = []\n",
        "for directory_path in glob.glob(\"/content/drive/MyDrive/agv/aug_segmented_img \"):\n",
        "    for mask_path in glob.glob(os.path.join(directory_path, \"*.png\")):\n",
        "        mask = cv2.imread(mask_path, 0)\n",
        "        #mask = cv2.resize(mask, (SIZE_Y, SIZE_X))\n",
        "        #mask = cv2.cvtColor(mask, cv2.COLOR_RGB2BGR)\n",
        "        train_masks.append(mask)\n",
        "        #train_labels.append(label)\n",
        "#Convert list to array for machine learning processing\n",
        "train_masks = np.array(train_masks)\n",
        "\n",
        "#Use customary x_train and y_train variables\n",
        "X = train_images\n",
        "Y = train_masks"
      ],
      "metadata": {
        "id": "LUNcwdCBTFB2"
      },
      "execution_count": null,
      "outputs": []
    },
    {
      "cell_type": "code",
      "source": [
        "train_images.shape\n"
      ],
      "metadata": {
        "colab": {
          "base_uri": "https://localhost:8080/"
        },
        "id": "QHVN0vsl57nG",
        "outputId": "2c80911f-ab6f-4931-bffb-706e915fb67e"
      },
      "execution_count": null,
      "outputs": [
        {
          "output_type": "execute_result",
          "data": {
            "text/plain": [
              "(2000, 512, 256, 3)"
            ]
          },
          "metadata": {},
          "execution_count": 7
        }
      ]
    },
    {
      "cell_type": "code",
      "source": [
        "train_masks.shape"
      ],
      "metadata": {
        "colab": {
          "base_uri": "https://localhost:8080/"
        },
        "id": "Kw_PRGq-6COa",
        "outputId": "f3810bcc-c4b6-4b93-ea4d-33678de24185"
      },
      "execution_count": null,
      "outputs": [
        {
          "output_type": "execute_result",
          "data": {
            "text/plain": [
              "(2000, 512, 256)"
            ]
          },
          "metadata": {},
          "execution_count": 8
        }
      ]
    },
    {
      "cell_type": "code",
      "source": [
        "x_train1 = X[:250]\n",
        "y_train1 = Y[:250]\n",
        "y_train1.shape"
      ],
      "metadata": {
        "colab": {
          "base_uri": "https://localhost:8080/"
        },
        "id": "0bPhZal5BJrF",
        "outputId": "90d16b75-c680-4c32-cefa-693377d73de2"
      },
      "execution_count": null,
      "outputs": [
        {
          "output_type": "execute_result",
          "data": {
            "text/plain": [
              "(250, 512, 256)"
            ]
          },
          "metadata": {},
          "execution_count": 14
        }
      ]
    },
    {
      "cell_type": "code",
      "source": [
        "from sklearn.model_selection import train_test_split\n",
        "x_train, x_val, y_train, y_val = train_test_split(X, Y, test_size=0.2, random_state=42)"
      ],
      "metadata": {
        "id": "htaLKpUKTVkU"
      },
      "execution_count": null,
      "outputs": []
    },
    {
      "cell_type": "code",
      "source": [
        "import tensorflow as tf\n",
        "from tensorflow.keras.models import Model\n",
        "from tensorflow.keras.layers import Input, Conv2D, MaxPooling2D, Dropout, concatenate, Conv2DTranspose\n",
        "\n",
        "def unet(input_shape=(512, 256, 3)):\n",
        "    inputs = Input(input_shape)\n",
        "\n",
        "    # Encoder\n",
        "    conv1 = Conv2D(64, 3, activation='relu', padding='same')(inputs)\n",
        "    conv1 = Conv2D(64, 3, activation='relu', padding='same')(conv1)\n",
        "    pool1 = MaxPooling2D(pool_size=(2, 2))(conv1)\n",
        "\n",
        "    conv2 = Conv2D(128, 3, activation='relu', padding='same')(pool1)\n",
        "    conv2 = Conv2D(128, 3, activation='relu', padding='same')(conv2)\n",
        "    pool2 = MaxPooling2D(pool_size=(2, 2))(conv2)\n",
        "\n",
        "    conv3 = Conv2D(256, 3, activation='relu', padding='same')(pool2)\n",
        "    conv3 = Conv2D(256, 3, activation='relu', padding='same')(conv3)\n",
        "    pool3 = MaxPooling2D(pool_size=(2, 2))(conv3)\n",
        "\n",
        "    conv4 = Conv2D(512, 3, activation='relu', padding='same')(pool3)\n",
        "    conv4 = Conv2D(512, 3, activation='relu', padding='same')(conv4)\n",
        "    drop4 = Dropout(0.5)(conv4)\n",
        "    pool4 = MaxPooling2D(pool_size=(2, 2))(drop4)\n",
        "\n",
        "    # Bridge\n",
        "    conv5 = Conv2D(1024, 3, activation='relu', padding='same')(pool4)\n",
        "    conv5 = Conv2D(1024, 3, activation='relu', padding='same')(conv5)\n",
        "    drop5 = Dropout(0.5)(conv5)\n",
        "\n",
        "    # Decoder\n",
        "    up6 = Conv2DTranspose(512, 2, strides=(2, 2), padding='same')(drop5)\n",
        "    merge6 = concatenate([drop4, up6], axis=3)\n",
        "    conv6 = Conv2D(512, 3, activation='relu', padding='same')(merge6)\n",
        "    conv6 = Conv2D(512, 3, activation='relu', padding='same')(conv6)\n",
        "\n",
        "    up7 = Conv2DTranspose(256, 2, strides=(2, 2), padding='same')(conv6)\n",
        "    merge7 = concatenate([conv3, up7], axis=3)\n",
        "    conv7 = Conv2D(256, 3, activation='relu', padding='same')(merge7)\n",
        "    conv7 = Conv2D(256, 3, activation='relu', padding='same')(conv7)\n",
        "\n",
        "    up8 = Conv2DTranspose(128, 2, strides=(2, 2), padding='same')(conv7)\n",
        "    merge8 = concatenate([conv2, up8], axis=3)\n",
        "    conv8 = Conv2D(128, 3, activation='relu', padding='same')(merge8)\n",
        "    conv8 = Conv2D(128, 3, activation='relu', padding='same')(conv8)\n",
        "\n",
        "    up9 = Conv2DTranspose(64, 2, strides=(2, 2), padding='same')(conv8)\n",
        "    merge9 = concatenate([conv1, up9], axis=3)\n",
        "    conv9 = Conv2D(64, 3, activation='relu', padding='same')(merge9)\n",
        "    conv9 = Conv2D(64, 3, activation='relu', padding='same')(conv9)\n",
        "    conv9 = Conv2D(2, 3, activation='relu', padding='same')(conv9)\n",
        "\n",
        "    # Output\n",
        "    outputs = Conv2D(1, 1, activation='sigmoid')(conv9)\n",
        "\n",
        "    model = Model(inputs=inputs, outputs=outputs)\n",
        "    return model\n",
        "\n",
        "# Instantiate the U-Net model\n",
        "model = unet()\n",
        "\n",
        "# Compile the model\n",
        "model.compile(optimizer='adam', loss='binary_crossentropy', metrics=['accuracy'])\n",
        "\n",
        "# Train the model\n",
        "model.fit(x_train, y_train, batch_size=16, epochs=10, validation_data=(x_val, y_val))\n",
        "\n",
        "# # Perform inference on new images\n",
        "# predictions = model.predict(x_test)"
      ],
      "metadata": {
        "colab": {
          "base_uri": "https://localhost:8080/"
        },
        "id": "mig3jG35IEkj",
        "outputId": "1d52fa6a-73bf-46ce-ee3c-23fead989aff"
      },
      "execution_count": null,
      "outputs": [
        {
          "output_type": "stream",
          "name": "stdout",
          "text": [
            "Epoch 1/10\n",
            "100/100 [==============================] - 251s 2s/step - loss: -1413.0125 - accuracy: 0.0064 - val_loss: -1418.6353 - val_accuracy: 0.0000e+00\n",
            "Epoch 2/10\n",
            "100/100 [==============================] - 182s 2s/step - loss: -1439.3838 - accuracy: 0.0000e+00 - val_loss: -1418.6353 - val_accuracy: 0.0000e+00\n",
            "Epoch 3/10\n",
            "100/100 [==============================] - 181s 2s/step - loss: -1439.3838 - accuracy: 0.0000e+00 - val_loss: -1418.6353 - val_accuracy: 0.0000e+00\n",
            "Epoch 4/10\n",
            "100/100 [==============================] - 181s 2s/step - loss: -1439.3833 - accuracy: 0.0000e+00 - val_loss: -1418.6353 - val_accuracy: 0.0000e+00\n",
            "Epoch 5/10\n",
            "100/100 [==============================] - 191s 2s/step - loss: -1439.3839 - accuracy: 0.0000e+00 - val_loss: -1418.6353 - val_accuracy: 0.0000e+00\n",
            "Epoch 6/10\n",
            "100/100 [==============================] - 182s 2s/step - loss: -1439.3840 - accuracy: 0.0000e+00 - val_loss: -1418.6353 - val_accuracy: 0.0000e+00\n",
            "Epoch 7/10\n",
            "100/100 [==============================] - 181s 2s/step - loss: -1439.3834 - accuracy: 0.0000e+00 - val_loss: -1418.6353 - val_accuracy: 0.0000e+00\n",
            "Epoch 8/10\n",
            "100/100 [==============================] - 182s 2s/step - loss: -1439.3838 - accuracy: 0.0000e+00 - val_loss: -1418.6353 - val_accuracy: 0.0000e+00\n",
            "Epoch 9/10\n",
            "100/100 [==============================] - 191s 2s/step - loss: -1439.3838 - accuracy: 0.0000e+00 - val_loss: -1418.6353 - val_accuracy: 0.0000e+00\n",
            "Epoch 10/10\n",
            "100/100 [==============================] - 182s 2s/step - loss: -1439.3839 - accuracy: 0.0000e+00 - val_loss: -1418.6353 - val_accuracy: 0.0000e+00\n"
          ]
        },
        {
          "output_type": "execute_result",
          "data": {
            "text/plain": [
              "<keras.callbacks.History at 0x7f780ffbbc70>"
            ]
          },
          "metadata": {},
          "execution_count": 10
        }
      ]
    },
    {
      "cell_type": "code",
      "source": [
        "model.save(\"/content/drive/MyDrive/agv/model_unet_gpt\")"
      ],
      "metadata": {
        "colab": {
          "base_uri": "https://localhost:8080/"
        },
        "id": "1Du1xG_yNMD2",
        "outputId": "ce4be4f6-5018-444c-d909-1b45006c3f8c"
      },
      "execution_count": null,
      "outputs": [
        {
          "output_type": "stream",
          "name": "stderr",
          "text": [
            "WARNING:absl:Found untraced functions such as _jit_compiled_convolution_op, _jit_compiled_convolution_op, _jit_compiled_convolution_op, _jit_compiled_convolution_op, _jit_compiled_convolution_op while saving (showing 5 of 24). These functions will not be directly callable after loading.\n"
          ]
        }
      ]
    },
    {
      "cell_type": "code",
      "source": [
        "from tensorflow import keras\n",
        "model = keras.models.load_model('/content/drive/MyDrive/agv/model_2000.h5', compile=False)"
      ],
      "metadata": {
        "id": "zqAz1tvkSkbM"
      },
      "execution_count": null,
      "outputs": []
    },
    {
      "cell_type": "code",
      "source": [
        "# preprocess input\n",
        "x_train = preprocess_input(x_train)\n",
        "x_val = preprocess_input(x_val)"
      ],
      "metadata": {
        "id": "0KxPjj3rTYTt"
      },
      "execution_count": null,
      "outputs": []
    },
    {
      "cell_type": "code",
      "source": [
        "# define model\n",
        "model = sm.Unet(BACKBONE, encoder_weights='imagenet')\n",
        "model.compile(optimizer='adam',loss='binary_crossentropy', metrics=['mse'])\n",
        "#print(model.summary())"
      ],
      "metadata": {
        "id": "lRjrXWiPTgYO",
        "colab": {
          "base_uri": "https://localhost:8080/"
        },
        "outputId": "53c965ca-90f4-4ef2-bf26-61ea83e2d33d"
      },
      "execution_count": null,
      "outputs": [
        {
          "output_type": "stream",
          "name": "stdout",
          "text": [
            "Downloading data from https://github.com/qubvel/classification_models/releases/download/0.0.1/resnet34_imagenet_1000_no_top.h5\n",
            "85521592/85521592 [==============================] - 1s 0us/step\n"
          ]
        }
      ]
    },
    {
      "cell_type": "code",
      "source": [
        "history=model.fit(x_train,\n",
        "          y_train,\n",
        "          batch_size=8,\n",
        "          epochs=500,\n",
        "          verbose=1,\n",
        "          validation_data=(x_val, y_val))"
      ],
      "metadata": {
        "id": "Vd21gDiyTxUA"
      },
      "execution_count": null,
      "outputs": []
    },
    {
      "cell_type": "code",
      "source": [
        "loss = history.history['loss']\n",
        "val_loss = history.history['val_loss']\n",
        "epochs = range(1, len(loss) + 1)\n",
        "plt.plot(epochs, loss, 'y', label='Training loss')\n",
        "plt.plot(epochs, val_loss, 'r', label='Validation loss')\n",
        "plt.title('Training and validation loss')\n",
        "plt.xlabel('Epochs')\n",
        "plt.ylabel('Loss')\n",
        "plt.legend()\n",
        "plt.show()\n"
      ],
      "metadata": {
        "colab": {
          "base_uri": "https://localhost:8080/",
          "height": 472
        },
        "id": "0NUe6K4bT7CW",
        "outputId": "cf10de16-81b6-4d24-ff08-89f5715fbf26"
      },
      "execution_count": null,
      "outputs": [
        {
          "output_type": "display_data",
          "data": {
            "text/plain": [
              "<Figure size 640x480 with 1 Axes>"
            ],
            "image/png": "[encoded data removed]"
          },
          "metadata": {}
        }
      ]
    },
    {
      "cell_type": "code",
      "source": [
        "model.save(\"/content/drive/MyDrive/agv/model_2000_aug.h5\")"
      ],
      "metadata": {
        "id": "ndLm2RYKWcKx"
      },
      "execution_count": null,
      "outputs": []
    },
    {
      "cell_type": "code",
      "source": [
        "from tensorflow import keras\n",
        "model = keras.models.load_model('/content/drive/MyDrive/agv/model_2000.h5', compile=False)"
      ],
      "metadata": {
        "id": "x4NCjvxrWMox"
      },
      "execution_count": null,
      "outputs": []
    },
    {
      "cell_type": "code",
      "source": [
        "test_img = cv2.imread('/content/drive/MyDrive/agv/raw_images/bremen_000156_000019_leftImg8bit.png', cv2.IMREAD_COLOR)\n",
        "test_img = cv2.rotate(test_img, cv2.ROTATE_90_CLOCKWISE)\n",
        "test_img = cv2.resize(test_img, (512, 256))\n",
        "test_img = cv2.cvtColor(test_img, cv2.COLOR_RGB2BGR)\n",
        "test_img = np.expand_dims(test_img, axis=0)\n",
        "\n",
        "prediction = model.predict(test_img)"
      ],
      "metadata": {
        "colab": {
          "base_uri": "https://localhost:8080/"
        },
        "id": "ptK1_ds8W4lc",
        "outputId": "ab11f445-9aec-4c6f-f76f-ffbd773f62bf"
      },
      "execution_count": null,
      "outputs": [
        {
          "output_type": "stream",
          "name": "stdout",
          "text": [
            "1/1 [==============================] - 3s 3s/step\n"
          ]
        }
      ]
    },
    {
      "cell_type": "code",
      "source": [
        "test_i = cv2.imread('/content/drive/MyDrive/agv/raw_images/bremen_000156_000019_leftImg8bit.png')\n",
        "test_i.shape"
      ],
      "metadata": {
        "colab": {
          "base_uri": "https://localhost:8080/"
        },
        "id": "oCX83vcicZWd",
        "outputId": "b38ba9c1-16b7-4750-caa1-4d428a2df14b"
      },
      "execution_count": null,
      "outputs": [
        {
          "output_type": "execute_result",
          "data": {
            "text/plain": [
              "(256, 512, 3)"
            ]
          },
          "metadata": {},
          "execution_count": 119
        }
      ]
    },
    {
      "cell_type": "code",
      "source": [
        "prediction_image = prediction.reshape(mask.shape)\n",
        "prediction_image = cv2.rotate(prediction_image, cv2.ROTATE_90_CLOCKWISE)\n",
        "plt.imshow(prediction_image, cmap='gray')\n",
        "plt.show()\n",
        "plt.imshow(test_i, cmap='gray')\n",
        "plt.show()"
      ],
      "metadata": {
        "id": "8qbxiDpGW6ru"
      },
      "execution_count": null,
      "outputs": []
    },
    {
      "cell_type": "code",
      "source": [
        "\n",
        "#Y = np.expand_dims(Y, axis=3) #May not be necessary.. leftover from previous code\n",
        "#accuracy = model.evaluate(x_val, y_val)\n",
        "#plot the training and validation accuracy and loss at each epoch\n",
        "#model.save('membrane.h5')\n",
        "#Test on a different image\n",
        "#READ EXTERNAL IMAGE...\n",
        "test_img = cv2.imread('/content/drive/MyDrive/agv/raw_images/aachen_000064_000019_leftImg8bit.png', cv2.IMREAD_COLOR)\n",
        "test_img = cv2.resize(test_img, (SIZE_Y, SIZE_X))\n",
        "test_img = cv2.cvtColor(test_img, cv2.COLOR_RGB2BGR)\n",
        "test_img = np.expand_dims(test_img, axis=0)\n",
        "\n",
        "prediction = model.predict(test_img)\n",
        "\n",
        "#View and Save segmented image\n",
        "prediction_image = prediction.reshape(mask.shape)\n",
        "plt.imshow(prediction_image, cmap='gray')\n",
        "plt.imsave('membrane/test0_segmented.jpg', prediction_image, cmap='gray')"
      ],
      "metadata": {
        "id": "EOFLkNjYMvtG"
      },
      "execution_count": null,
      "outputs": []
    }
  ]
}